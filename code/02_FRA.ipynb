{
  "cells": [
    {
      "cell_type": "markdown",
      "metadata": {
        "id": "GoToyHyMd0_L"
      },
      "source": [
        "# Forward Rate Agreement (FRA)\n",
        "\n",
        "## Valuation"
      ]
    },
    {
      "cell_type": "markdown",
      "metadata": {
        "id": "VJWdxGMOhHfi"
      },
      "source": [
        "$\\textbf{FRA}=\\tau KP(t, S)-P(t, T) + P(t,S)$\n",
        "\n",
        "### Exact Calculation\n",
        "\n",
        "Let's evaluate a FRA using $\\texttt{tensorquant}$..."
      ]
    },
    {
      "cell_type": "code",
      "execution_count": 1,
      "metadata": {
        "colab": {
          "base_uri": "https://localhost:8080/"
        },
        "id": "yTzPSoB9hNLZ",
        "outputId": "1fdebe55-79a4-4828-9783-e30a46cda0ca"
      },
      "outputs": [
        {
          "name": "stdout",
          "output_type": "stream",
          "text": [
            "\u001b[?25l   \u001b[90m━━━━━━━━━━━━━━━━━━━━━━━━━━━━━━━━━━━━━━━━\u001b[0m \u001b[32m0.0/70.0 kB\u001b[0m \u001b[31m?\u001b[0m eta \u001b[36m-:--:--\u001b[0m\r\u001b[2K   \u001b[91m━━━━━━━━━━━━━━━━━━━━━━━━━━━━━━━━━━━\u001b[0m\u001b[90m╺\u001b[0m\u001b[90m━━━━\u001b[0m \u001b[32m61.4/70.0 kB\u001b[0m \u001b[31m2.5 MB/s\u001b[0m eta \u001b[36m0:00:01\u001b[0m\r\u001b[2K   \u001b[90m━━━━━━━━━━━━━━━━━━━━━━━━━━━━━━━━━━━━━━━━\u001b[0m \u001b[32m70.0/70.0 kB\u001b[0m \u001b[31m1.4 MB/s\u001b[0m eta \u001b[36m0:00:00\u001b[0m\n",
            "\u001b[?25h"
          ]
        }
      ],
      "source": [
        "!pip install -q tensorquant"
      ]
    },
    {
      "cell_type": "code",
      "execution_count": 5,
      "metadata": {
        "colab": {
          "base_uri": "https://localhost:8080/"
        },
        "id": "u6POVcJkh3t5",
        "outputId": "52d87cdb-1b75-4c5e-f708-d60a366b6bcc"
      },
      "outputs": [
        {
          "name": "stdout",
          "output_type": "stream",
          "text": [
            "NPV FRA: 325,890\n"
          ]
        }
      ],
      "source": [
        "import tensorquant as tq, pandas as pd\n",
        "from datetime import date, datetime\n",
        "\n",
        "tq.Settings.evaluation_date = date(2025, 4, 3)\n",
        "evaluation_date = tq.Settings.evaluation_date\n",
        "calendar = tq.TARGET()\n",
        "rates_estr = [0.045, 0.045, 0.045, 0.045]\n",
        "times_estr = [datetime.strptime(d, \"%Y-%m-%d\").date() for d in ['2025-07-01', '2028-01-01', '2028-04-01', '2029-01-01']]\n",
        "market_data = {}\n",
        "market_data[\"IR:EUR:ESTR\"] = market_data[\"IR:EUR:3M\"] = tq.RateCurve(reference_date=evaluation_date,\n",
        "                                                                     pillars=times_estr, rates=rates_estr, interp='LINEAR',\n",
        "                                                                     daycounter_convention=tq.DayCounterConvention.ActualActual)\n",
        "eur3m_index = tq.IborIndex(calendar, 3, tq.TimeUnit.Months, tq.Currency.EUR, 2)\n",
        "eur3m_index.add_fixing(evaluation_date, 0.045)\n",
        "\n",
        "notional=100e6\n",
        "fixed_rate = 0.04\n",
        "\n",
        "eur_fra_builder = tq.FraGenerator(ccy=tq.Currency.EUR, start_delay=2, fixing_days=2, index_term=\"3M\",\n",
        "                                  roll_convention= tq.BusinessDayConvention.ModifiedFollowing, notional=notional,\n",
        "                                  day_count_convention=tq.DayCounterConvention.Actual360, calendar=tq.TARGET(), index=eur3m_index)\n",
        "fra = eur_fra_builder.build(trade_date=evaluation_date, quote=fixed_rate, term=\"3M-12M\")\n",
        "fra_engine = tq.FraPricer(tq.market_map)\n",
        "fra_engine.price(fra, market_data, True)\n",
        "\n",
        "print(f\"NPV FRA: {fra.price :,.0f}\")"
      ]
    },
    {
      "cell_type": "markdown",
      "metadata": {
        "id": "3_i9uFC_fO49"
      },
      "source": [
        "### Approximated Calculation\n",
        "\n",
        "Now let's use a much simplified (but not fully correct) $\\texttt{python}$ code..."
      ]
    },
    {
      "cell_type": "code",
      "execution_count": 7,
      "metadata": {
        "id": "Q9bddty-eHfc"
      },
      "outputs": [],
      "source": [
        "import numpy as np\n",
        "\n",
        "class DiscountCurve:\n",
        "  def __init__(self, pillar_dates, discount_factors):\n",
        "    self.discount_factors = np.array(discount_factors)\n",
        "    self.pillar_dates = pillar_dates\n",
        "\n",
        "  def df(self, adate):\n",
        "    pillars = [p.toordinal() for p in self.pillar_dates]\n",
        "    return np.interp(adate.toordinal(), pillars, self.discount_factors)"
      ]
    },
    {
      "cell_type": "code",
      "execution_count": 8,
      "metadata": {
        "id": "RcpL4DCyqbcJ"
      },
      "outputs": [],
      "source": [
        "class FRA:\n",
        "  def __init__(self, today, nominal, fixing_date, maturity, fixed_rate):\n",
        "    self.t = today\n",
        "    self.T = fixing_date\n",
        "    self.S = maturity\n",
        "    self.N = nominal\n",
        "    self.K = fixed_rate\n",
        "\n",
        "  def npv(self, dc):\n",
        "    tau = (self.S - self.T).days/360\n",
        "    P_tS = dc.df(self.S)\n",
        "    P_tT = dc.df(self.T)\n",
        "    return self.N*(P_tS*tau*self.K - P_tT + P_tS)"
      ]
    },
    {
      "cell_type": "code",
      "execution_count": 10,
      "metadata": {
        "colab": {
          "base_uri": "https://localhost:8080/"
        },
        "id": "FGArOO12dJOW",
        "outputId": "b7bcd11e-1b22-4fd2-a835-3550db7c4d52"
      },
      "outputs": [
        {
          "name": "stdout",
          "output_type": "stream",
          "text": [
            "FRA NPV: 245,331\n"
          ]
        }
      ],
      "source": [
        "from datetime import date, datetime\n",
        "from dateutil.relativedelta import relativedelta\n",
        "\n",
        "today = date(2025, 4, 3)\n",
        "rates_estr = [0.045, 0.045, 0.045, 0.045]\n",
        "pillars = [today] + [datetime.strptime(d, \"%Y-%m-%d\").date() for d in ['2025-07-01', '2028-01-01', '2028-04-01', '2029-01-01']]\n",
        "dfs = [1.0, 0.9891, 0.8837, 0.8738, 0.8448]\n",
        "dc = DiscountCurve(pillars, dfs)\n",
        "\n",
        "N = 100e6\n",
        "fixing_date = today + relativedelta(months=3)\n",
        "maturity = today + relativedelta(months=12)\n",
        "K = 0.04\n",
        "fra = FRA(today, N, fixing_date, maturity, K)\n",
        "print (f\"FRA NPV: {-fra.npv(dc):,.0f}\")"
      ]
    },
    {
      "cell_type": "markdown",
      "metadata": {
        "id": "EgHgYmMLL7uF"
      },
      "source": [
        "# Swap as Collection of FRA's\n",
        "\n",
        "$$\\textbf{RFS} = N\\sum_{i=\\alpha+1}^{\\beta}\\tau_i P(t,T_i)(K-F(t;T_{i-1},T_i))$$\n",
        "\n",
        "  1. in a *Receiver Swap* with an increasing yield curve the first FRAs will have negative value, the last positive.\n",
        "  2. in a *Receiver Swap* with a decreasing yield curve the first FRAs will have positive value, the last negative."
      ]
    },
    {
      "cell_type": "code",
      "execution_count": 2,
      "metadata": {
        "id": "KfY7xoC-h9fR"
      },
      "outputs": [],
      "source": [
        "from datetime import date\n",
        "from dateutil.relativedelta import relativedelta\n",
        "\n",
        "def TimeInterval(interval):\n",
        "    tag = interval[-1].lower()\n",
        "    value = int(interval[:-1])\n",
        "    if tag == \"d\":\n",
        "        return relativedelta(days=value)\n",
        "    elif tag == \"m\":\n",
        "        return relativedelta(months=value)\n",
        "    elif tag == \"y\":\n",
        "        return relativedelta(years=value)\n",
        "    else:\n",
        "        raise ValueError(f\"Unable to convert {interval}, probably wrong units.\")\n",
        "\n",
        "def generate_dates(start_date, end_date, frequency=\"1y\"):\n",
        "    if isinstance(end_date, str):\n",
        "        end_date = start_date + TimeInterval(end_date)\n",
        "    d = start_date\n",
        "    dates = [start_date]\n",
        "    while True:\n",
        "        d += TimeInterval(frequency)\n",
        "        if d < end_date:\n",
        "            dates.append(d)\n",
        "        else:\n",
        "            dates.append(end_date)\n",
        "            break\n",
        "    return dates"
      ]
    },
    {
      "cell_type": "code",
      "execution_count": 4,
      "metadata": {
        "id": "pFxP8CU7rwpJ"
      },
      "outputs": [],
      "source": [
        "class InterestRateSwap:\n",
        "    def __init__(self, nominal, start_date, maturity,\n",
        "                 fixed_rate, frequency_float, frequency_fix=\"12m\", side=1):\n",
        "        self.N = nominal\n",
        "        self.K = fixed_rate\n",
        "        self.fix_dates = generate_dates(start_date, maturity, frequency_fix)\n",
        "        self.float_dates = generate_dates(start_date, maturity, frequency_float)\n",
        "        self.side = side\n",
        "\n",
        "    def npv_with_FRA(self, dc):\n",
        "        fras = []\n",
        "        for i in range(1, len(self.fix_dates)):\n",
        "            fras.append(FRA(self.fix_dates[0], self.N,\n",
        "                            self.fix_dates[i-1], self.fix_dates[i], self.K))\n",
        "\n",
        "        vals = [self.side*f.npv(dc) for f in fras]\n",
        "        return sum(vals), vals\n",
        "\n",
        "    def swap_rate(self, dc):\n",
        "        den = 0\n",
        "        num = dc.df(self.fix_dates[0]) - dc.df(self.fix_dates[-1])\n",
        "        for i in range(1, len(self.fix_dates)):\n",
        "            tau = (self.fix_dates[i]-self.fix_dates[i-1]).days/360\n",
        "            den += dc.df(self.fix_dates[i])*tau\n",
        "        return num/den"
      ]
    },
    {
      "cell_type": "code",
      "execution_count": 11,
      "metadata": {
        "id": "opqNyPagMIJz"
      },
      "outputs": [],
      "source": [
        "import matplotlib.pyplot as plt\n",
        "\n",
        "from datetime import date\n",
        "from dateutil.relativedelta import relativedelta\n",
        "\n",
        "def makePFS(rates):\n",
        "  vals = []\n",
        "  today = date.today()\n",
        "  dfs = [1] + [1/(1+rates[i])**i for i in range(1, len(rates))]\n",
        "  pillars = [today] + [today+relativedelta(years=i) for i in range(1, len(rates))]\n",
        "  dc = DiscountCurve(pillars, dfs)\n",
        "  dummy_irs = InterestRateSwap(1, today, \"5y\", 0.1, \"1y\", side=1)\n",
        "  swap_rate = dummy_irs.swap_rate(dc)\n",
        "  irs = InterestRateSwap(1, today, \"5y\", swap_rate, \"1y\", side=1)\n",
        "  val, vals = irs.npv_with_FRA(dc)\n",
        "  plt.plot(range(len(rates)), rates, linestyle=\"--\", label=r\"Interest rates $r$\")\n",
        "  plt.scatter(range(1, len(vals)+1), vals, color='red', label=\"FRA\")\n",
        "  plt.hlines(0, 0, 6, color='black', linestyle=\":\")\n",
        "  plt.xlim(0, 6)\n",
        "  plt.ylim(-0.1, 0.2)\n",
        "  plt.xlabel(\"Year\")\n",
        "  plt.legend()\n",
        "  plt.show()"
      ]
    },
    {
      "cell_type": "code",
      "execution_count": 12,
      "metadata": {
        "colab": {
          "base_uri": "https://localhost:8080/",
          "height": 492
        },
        "id": "MQH0nF8BKSUb",
        "outputId": "343305dc-934a-438d-b222-a637d07dc8a5"
      },
      "outputs": [
        {
          "name": "stdout",
          "output_type": "stream",
          "text": [
            "Increasing rates\n",
            "++++++++++++++++\n"
          ]
        },
        {
          "data": {
            "image/png": "[encoded data removed]",
            "text/plain": [
              "<Figure size 640x480 with 1 Axes>"
            ]
          },
          "metadata": {},
          "output_type": "display_data"
        }
      ],
      "source": [
        "print (\"Increasing rates\")\n",
        "print (\"++++++++++++++++\")\n",
        "makePFS([0.05, 0.07, 0.09, 0.11, 0.13, 0.15, 0.17])"
      ]
    },
    {
      "cell_type": "code",
      "execution_count": 13,
      "metadata": {
        "colab": {
          "base_uri": "https://localhost:8080/",
          "height": 510
        },
        "id": "uZYHASXpCbxi",
        "outputId": "d815bed5-918e-4952-f15c-e380f5194134"
      },
      "outputs": [
        {
          "name": "stdout",
          "output_type": "stream",
          "text": [
            "\n",
            "Decreasing rates\n",
            "++++++++++++++++\n"
          ]
        },
        {
          "data": {
            "image/png": "[encoded data removed]",
            "text/plain": [
              "<Figure size 640x480 with 1 Axes>"
            ]
          },
          "metadata": {},
          "output_type": "display_data"
        }
      ],
      "source": [
        "print (\"\\nDecreasing rates\")\n",
        "print (\"++++++++++++++++\")\n",
        "makePFS(list(reversed([0.05, 0.07, 0.09, 0.11, 0.13, 0.15, 0.17])))"
      ]
    },
    {
      "cell_type": "code",
      "execution_count": 14,
      "metadata": {
        "colab": {
          "base_uri": "https://localhost:8080/",
          "height": 510
        },
        "id": "awHX3gq5Ccgx",
        "outputId": "3600b727-c4a8-44c0-ab80-99f33fa58ae0"
      },
      "outputs": [
        {
          "name": "stdout",
          "output_type": "stream",
          "text": [
            "\n",
            "Flat rates\n",
            "++++++++++++++++\n"
          ]
        },
        {
          "data": {
            "image/png": "[encoded data removed]",
            "text/plain": [
              "<Figure size 640x480 with 1 Axes>"
            ]
          },
          "metadata": {},
          "output_type": "display_data"
        }
      ],
      "source": [
        "print (\"\\nFlat rates\")\n",
        "print (\"++++++++++++++++\")\n",
        "makePFS([0.05] * 7)"
      ]
    }
  ],
  "metadata": {
    "colab": {
      "provenance": []
    },
    "kernelspec": {
      "display_name": "Python 3",
      "name": "python3"
    },
    "language_info": {
      "codemirror_mode": {
        "name": "ipython",
        "version": 3
      },
      "file_extension": ".py",
      "mimetype": "text/x-python",
      "name": "python",
      "nbconvert_exporter": "python",
      "pygments_lexer": "ipython3",
      "version": "3.12.0"
    }
  },
  "nbformat": 4,
  "nbformat_minor": 0
}
