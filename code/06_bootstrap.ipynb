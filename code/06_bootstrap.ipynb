{
 "cells": [
  {
   "cell_type": "code",
   "execution_count": 24,
   "id": "e6325d48",
   "metadata": {},
   "outputs": [],
   "source": [
    "import numpy as np\n",
    "\n",
    "class Bond:\n",
    "    def __init__(self, N, cpns, tenor, maturity):\n",
    "        self.N = N\n",
    "        self.cpns = cpns\n",
    "        self.tenor = tenor\n",
    "        self.maturity = maturity\n",
    "\n",
    "    def npv(self, rates):\n",
    "        val = 0\n",
    "        for i in np.arange(0, self.maturity, self.tenor):\n",
    "            val += self.N*self.cpns[i]*self.tenor*np.exp(-rates[i]*(i+self.tenor))\n",
    "        val += self.N*np.exp(-rates[i]*self.maturity) \n",
    "        return val\n",
    "\n",
    "bonds = [Bond(100, [0.05,], 1, 1), Bond(100, [0.04, 0.04], 1, 2)]\n",
    "#print (b1.npv([0.01, 0.0095]))\n",
    "#print (b2.npv([0.01, 0.0095]))"
   ]
  },
  {
   "cell_type": "code",
   "execution_count": 25,
   "id": "27d6c0a7",
   "metadata": {},
   "outputs": [
    {
     "name": "stdout",
     "output_type": "stream",
     "text": [
      "[np.float64(0.010002236962116965), np.float64(0.009499236346601898)]\n"
     ]
    }
   ],
   "source": [
    "from scipy.optimize import newton\n",
    "\n",
    "def obj(r, b, rates, price):\n",
    "    return b.npv(rates + [r]) - price\n",
    "\n",
    "guess = 0.05\n",
    "rates = []\n",
    "prices = [103.955, 106.003]\n",
    "\n",
    "for i in range(len(bonds)):\n",
    "    res = newton(obj, guess, args=(bonds[i], rates, prices[i]))\n",
    "    rates.append(res)\n",
    "print (rates)"
   ]
  }
 ],
 "metadata": {
  "kernelspec": {
   "display_name": "Python 3",
   "language": "python",
   "name": "python3"
  },
  "language_info": {
   "codemirror_mode": {
    "name": "ipython",
    "version": 3
   },
   "file_extension": ".py",
   "mimetype": "text/x-python",
   "name": "python",
   "nbconvert_exporter": "python",
   "pygments_lexer": "ipython3",
   "version": "3.13.0"
  }
 },
 "nbformat": 4,
 "nbformat_minor": 5
}
