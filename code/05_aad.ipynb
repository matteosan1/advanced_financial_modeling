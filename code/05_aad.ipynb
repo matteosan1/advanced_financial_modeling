{
  "cells": [
    {
      "cell_type": "markdown",
      "metadata": {
        "id": "t14zpJxVA8KM"
      },
      "source": [
        "## PV01\n",
        "\n",
        "The *PV01* for a plain vanilla swap can be calculated as\n",
        "\n",
        "$$PV01 = 0.01\\% \\sum_{i=\\alpha +1}^{\\beta} \\tau_i P(0, T_i)$$"
      ]
    },
    {
      "cell_type": "code",
      "execution_count": 1,
      "metadata": {},
      "outputs": [],
      "source": [
        "import numpy as np\n",
        "\n",
        "from dateutil.relativedelta import relativedelta\n",
        "\n",
        "def TimeInterval(interval):\n",
        "    tag = interval[-1].lower()\n",
        "    value = int(interval[:-1])\n",
        "    if tag == \"d\":\n",
        "        return relativedelta(days=value)\n",
        "    elif tag == \"m\":\n",
        "        return relativedelta(months=value)\n",
        "    elif tag == \"y\":\n",
        "        return relativedelta(years=value)\n",
        "    else:\n",
        "        raise ValueError(f\"Unable to convert {interval}, probably wrong units.\")\n",
        "    \n",
        "def generate_dates(start_date, end_date, frequency=\"1y\"):\n",
        "    if isinstance(end_date, str):\n",
        "        end_date = start_date + TimeInterval(end_date)\n",
        "    d = start_date\n",
        "    dates = [start_date]\n",
        "    while True:\n",
        "        d += TimeInterval(frequency)\n",
        "        if d < end_date:\n",
        "            dates.append(d)\n",
        "        else:\n",
        "            dates.append(end_date)\n",
        "            break\n",
        "    return dates\n",
        "\n",
        "class DiscountCurve:\n",
        "  def __init__(self, pillar_dates, discount_factors):\n",
        "    self.discount_factors = np.array(discount_factors)\n",
        "    self.pillar_dates = pillar_dates\n",
        "\n",
        "  def df(self, adate):\n",
        "    pillars = [p.toordinal() for p in self.pillar_dates]\n",
        "    return np.interp(adate.toordinal(), pillars, self.discount_factors)"
      ]
    },
    {
      "cell_type": "code",
      "execution_count": 2,
      "metadata": {
        "id": "_OTMH3KpbDOh"
      },
      "outputs": [],
      "source": [
        "class InterestRateSwap:\n",
        "    def __init__(self, nominal, start_date, maturity, fixed_rate, frequency_fix=\"12m\", side=1):\n",
        "        self.N = nominal\n",
        "        self.K = fixed_rate\n",
        "        self.dates = generate_dates(start_date, maturity, frequency_fix)\n",
        "        self.side = side\n",
        "\n",
        "    def npv(self, dc):\n",
        "      A = self.annuity(dc)\n",
        "      return self.N*(self.K*A - dc.df(self.dates[0]) + dc.df(self.dates[-1]))\n",
        "\n",
        "    def swap_rate_single_curve(self, dc):\n",
        "        den = 0\n",
        "        num = dc.df(self.dates[0]) - dc.df(self.dates[-1])\n",
        "        for i in range(1, len(self.dates)):\n",
        "            tau = (self.dates[i]-self.dates[i-1]).days/360\n",
        "            den += dc.df(self.dates[i])*tau\n",
        "        return num/den\n",
        "\n",
        "    def annuity(self, dc):\n",
        "        a = 0\n",
        "        for i in range(1, len(self.dates)):\n",
        "            tau = (self.dates[i]-self.dates[i-1]).days/360\n",
        "            a += tau*dc.df(self.dates[i])\n",
        "        return a\n",
        "\n",
        "    def pv01(self, dc):\n",
        "        return 0.0001*self.annuity(dc)\n"
      ]
    },
    {
      "cell_type": "code",
      "execution_count": 4,
      "metadata": {
        "colab": {
          "base_uri": "https://localhost:8080/"
        },
        "id": "pAxXMcYN-xbu",
        "outputId": "434d2fc0-2a24-455c-93ab-0916db93e256"
      },
      "outputs": [
        {
          "name": "stdout",
          "output_type": "stream",
          "text": [
            "IRS PV01: 0.00045\n"
          ]
        }
      ],
      "source": [
        "from datetime import date\n",
        "from dateutil.relativedelta import relativedelta\n",
        "\n",
        "n = 6\n",
        "today = date.today()\n",
        "dates = [today+relativedelta(years=i) for i in range(n)]\n",
        "dfs = [1/(1+0.05)**i for i in range(n)]\n",
        "dc = DiscountCurve(dates, dfs)\n",
        "\n",
        "irs = InterestRateSwap(1, today, \"5y\", 0.055, \"3m\")\n",
        "\n",
        "print (\"IRS PV01: {:.5f}\".format(irs.pv01(dc)))"
      ]
    },
    {
      "cell_type": "markdown",
      "metadata": {
        "id": "JxjKhvqCBgX3"
      },
      "source": [
        "Since each vanilla swap can be considered as an exchange of a *fixed rate bond* and a *floater*, deltas can be computed using the same \"instruments\" as bonds.\n",
        "In particular it can be used the *duration* which estimates the change in the bond price by the change in its yield\n",
        "\n",
        "$$\\frac{\\Delta P}{P} = - D\\Delta y$$\n",
        "\n",
        "For example, if a bond has a duration of 5, then a 1% increase in interest rates would cause the bond's price to fall by 5%.\n",
        "Consider that to obtain previous equation a first order Taylor series expantion has been used, that's why it holds only for small rate variation (otherwise convexity has to be considered).\n"
      ]
    },
    {
      "cell_type": "markdown",
      "metadata": {
        "id": "PqC5aImUEUKy"
      },
      "source": [
        "Once duration has been computed $PV01$ can be estimated through the following approximation\n",
        "\n",
        "$$PV01 = D \\cdot P_{\\text{fix}} \\cdot 0.01\\%$$"
      ]
    },
    {
      "cell_type": "markdown",
      "metadata": {
        "id": "xdoi2C78Hf0N"
      },
      "source": [
        "## DV01\n",
        "\n",
        "One way to compute DV01, is by manually shift the interest rate curve, compute the contract price twice and check the variation."
      ]
    },
    {
      "cell_type": "code",
      "execution_count": 6,
      "metadata": {
        "colab": {
          "base_uri": "https://localhost:8080/"
        },
        "id": "VrHX-i9qedFJ",
        "outputId": "5ce85a8f-e334-4594-d025-f8759ab5322a"
      },
      "outputs": [
        {
          "name": "stdout",
          "output_type": "stream",
          "text": [
            "IRS DV01: 0.00043\n"
          ]
        }
      ],
      "source": [
        "import numpy as np\n",
        "\n",
        "from datetime import date\n",
        "from dateutil.relativedelta import relativedelta\n",
        "\n",
        "n = 6\n",
        "today = date.today()\n",
        "dates = [today + relativedelta(years=i) for i in range(n)]\n",
        "\n",
        "dr = 0.0001\n",
        "rates_up = np.array([0.05]*n) + dr\n",
        "rates_down = np.array([0.05]*n) - dr\n",
        "dfs_up = [1/(1+rates_up[i])**i for i in range(n)]\n",
        "dfs_down = [1/(1+rates_down[i])**i for i in range(n)]\n",
        "dc_up = DiscountCurve(dates, dfs_up)\n",
        "dc_down = DiscountCurve(dates, dfs_down)\n",
        "\n",
        "irs = InterestRateSwap(1, today, \"5y\", 0.055, \"3m\")\n",
        "dv01 = (irs.npv(dc_down) - irs.npv(dc_up))/2\n",
        "print (f\"IRS DV01: {dv01:.5f}\")"
      ]
    },
    {
      "cell_type": "markdown",
      "metadata": {
        "id": "O7kLqO0Pfj-Q"
      },
      "source": [
        "\\begin{equation}\n",
        "\\textbf{DV01} = \\underbrace{-\\sum_{j}\\tau_jP_j}_{\\text{PV01}}+\\underbrace{\\sum_{j}\\left(K\\sum_{i=\\alpha+1}^\\beta\\tau_i\\frac{\\partial P_i}{\\partial r_j} - \\sum_{k=\\alpha+1}^\\beta L_k\\tau_k\\frac{\\partial P_k}{\\partial r_j}\\right)}_{\\text{additional terms}}\n",
        "\\end{equation}"
      ]
    },
    {
      "cell_type": "markdown",
      "metadata": {
        "id": "lzZR6omWFRN7"
      },
      "source": [
        "## Algorithmic Differientation\n",
        "\n",
        "Consider the following function\n",
        "\\begin{equation}\n",
        "\\begin{cases}\n",
        "\\text{Function: } f(x_0, x_1) = 2x_0^2 + 3x_1\\\\\n",
        "\\text{Solution: } \\frac{df}{dx_0} = 4x_0, \\text{ and } \\frac{df}{dx_1}=3\n",
        "\\end{cases}\n",
        "\\end{equation}\n",
        "\n",
        "Compute the AD both using tangent and adjoint technique, when $x_0=2$ and $x_1=3$,\n",
        "\\begin{equation}\n",
        "\\frac{df}{dx_0} = 8, \\text{ and } \\frac{df}{dx_1}=3\n",
        "\\end{equation}\n"
      ]
    },
    {
      "cell_type": "code",
      "execution_count": 7,
      "metadata": {
        "colab": {
          "base_uri": "https://localhost:8080/"
        },
        "id": "_6z0tfDG57cS",
        "outputId": "6d518d29-3f9f-47d3-fe35-48cbe9f60745"
      },
      "outputs": [
        {
          "name": "stdout",
          "output_type": "stream",
          "text": [
            "f(x) = 17\n",
            "tangent = (8, 3)\n",
            "aad = [8. 3.]\n"
          ]
        }
      ],
      "source": [
        "import tensorflow as tf\n",
        "\n",
        "def f(x):\n",
        "  return 2*x[0]**2+3*x[1]\n",
        "\n",
        "def df_tangent(x):\n",
        "  return 4*x[0], 3\n",
        "\n",
        "def df_adjoint(x):\n",
        "  x = tf.Variable(x, dtype='float', name='x')\n",
        "  with tf.GradientTape() as tape:\n",
        "    f = 2*x[0]**2+3*x[1]\n",
        "  return tape.gradient(f, x)\n",
        "\n",
        "x = (2, 3)\n",
        "print (f\"f(x) = {f(x)}\")\n",
        "print (f\"tangent = {df_tangent(x)}\")\n",
        "print (f\"aad = {df_adjoint(x)}\")"
      ]
    },
    {
      "cell_type": "markdown",
      "metadata": {
        "id": "U_z3p9e651KI"
      },
      "source": [
        "Consider a 5-years receiver Interest Rate Swap with a 1M notional, exchanging a fixed rate of 5\\% with a flat 1\\% LIBOR rate with annual payments.\n",
        "Compute DV01 with and without algorithmic differentiation. Compare the results."
      ]
    },
    {
      "cell_type": "markdown",
      "metadata": {
        "id": "xqXtF5807TPJ"
      },
      "source": [
        "Below the two differentiation modes have been implemented.\n",
        "For the \"tangent\" mode the explicit derivatives have been computed, as an example (remember that $F_i=\\frac{r_i t_i - r_{i-1} t_{i-1}}{\\tau}$):\n",
        "$$\n",
        "\\cfrac{\\partial PV_{float}}{\\partial r_i} = \\cfrac{\\partial}{\\partial r_i}\\sum_j N\\tau F_j e^{-r_j t_j} = N\\tau \\Bigg[ t_i - F_i t_i - t_{i-1}\\Bigg]e^{-r_i t_i}\n",
        "$$\n",
        "\n",
        "$$\n",
        "\\cfrac{\\partial PV_{fix}}{\\partial r_i} = \\cfrac{\\partial}{\\partial r_i}\\sum_i N\\tau K e^{-r_i t_i} = - N\\tau K t_i e^{-r_i t_i}\n",
        "$$"
      ]
    },
    {
      "cell_type": "code",
      "execution_count": 54,
      "metadata": {
        "id": "w5_NpDH7jLRJ"
      },
      "outputs": [],
      "source": [
        "import numpy as np\n",
        "import tensorflow as tf\n",
        "\n",
        "class Swap:\n",
        "  def __init__(self, notional, fixed_rate, tau, terms, rates):\n",
        "    self.N = notional\n",
        "    self.K = fixed_rate\n",
        "    self.tau = tau\n",
        "    self.terms = np.array(terms)\n",
        "    self.rates = np.array(rates)\n",
        "\n",
        "  def swap_price(self, dr=0.0001):\n",
        "    rates = tf.Variable(self.rates, name=\"rates\", dtype=tf.float64)\n",
        "    fixed_pv = tf.Variable(0.0, dtype=tf.float64)\n",
        "    float_pv = tf.Variable(0.0, dtype=tf.float64)\n",
        "\n",
        "    with tf.GradientTape(persistent=True) as tape:\n",
        "      fixed_pv = fixed_pv + self.N*self.K*self.tau*tf.reduce_sum(tf.math.exp(-rates[1:]*self.terms[1:]))\n",
        "      for j in range(1, len(self.terms)):\n",
        "        float_pv = float_pv + self.N*(rates[j]*self.terms[j]-rates[j-1]*self.terms[j-1])*tf.math.exp(-rates[j]*self.terms[j])\n",
        "\n",
        "    fixed_pv_dot = np.sum(dr*tape.gradient(fixed_pv, rates))\n",
        "    float_pv_dot = np.sum(dr*tape.gradient(float_pv, rates))\n",
        "\n",
        "    swap_pv = (fixed_pv - float_pv)\n",
        "    swap_pv_dot = (fixed_pv_dot - float_pv_dot)\n",
        "\n",
        "    return swap_pv, swap_pv_dot\n",
        "\n",
        "  def swap_price_tangent_mode_manual(self, r_dot=0.0001):\n",
        "    fixed_pv = 0.0\n",
        "    fixed_pv_dot = 0.0\n",
        "\n",
        "    fixed_pv = self.N*self.K*self.tau*np.exp(-self.rates[1:]*self.terms[1:]).sum()\n",
        "    for i in range(1, len(self.terms)):\n",
        "        fixed_pv_dot += -self.terms[i]*self.N*self.K*self.tau*np.exp(-self.rates[i]*self.terms[i])*r_dot\n",
        "    \n",
        "    float_pv = 0.0\n",
        "    float_pv_dot = 0.0\n",
        "    for j in range(1, len(self.terms)):\n",
        "        F = (self.rates[j]*self.terms[j]-self.rates[j-1]*self.terms[j-1])/self.tau\n",
        "        float_pv += self.N*F*self.tau*np.exp(-self.rates[j]*self.terms[j])\n",
        "        float_pv_dot += -self.terms[j-1]*self.N*self.tau*np.exp(-self.rates[j]*self.terms[j])*r_dot\n",
        "        float_pv_dot += self.terms[j]*self.N*self.tau*np.exp(-self.rates[j]*self.terms[j])*(1-F)*r_dot\n",
        "    swap_pv = (fixed_pv - float_pv)\n",
        "    swap_pv_dot = (fixed_pv_dot - float_pv_dot)\n",
        "\n",
        "    return swap_pv, swap_pv_dot"
      ]
    },
    {
      "cell_type": "code",
      "execution_count": 56,
      "metadata": {
        "colab": {
          "base_uri": "https://localhost:8080/"
        },
        "id": "V2t-LUxAjNqx",
        "outputId": "99779be4-01bb-43de-f6e6-9749df722a5d"
      },
      "outputs": [
        {
          "name": "stdout",
          "output_type": "stream",
          "text": [
            "Swap price: -9,097.43 (-9,097.43)\n",
            "DV01: -472.60 (-472.60)\n"
          ]
        }
      ],
      "source": [
        "\n",
        "N = 1e6\n",
        "fixed_rate  = 0.015\n",
        "tau         = 1.0\n",
        "terms       = np.array([0.0, 1.0, 2.0, 3.0, 4.0, 5.0])\n",
        "rates       = np.array([0.01, 0.012, 0.013, 0.014, 0.016, 0.017])\n",
        "\n",
        "swap = Swap(N, fixed_rate, tau, terms, rates)\n",
        "price, dv01 = swap.swap_price()\n",
        "\n",
        "print (f\"Swap price: {price:,.2f} ({swap.swap_price_tangent_mode_manual()[0]:,.2f})\")\n",
        "print (f\"DV01: {dv01:,.2f} ({swap.swap_price_tangent_mode_manual()[1]:,.2f})\")"
      ]
    }
  ],
  "metadata": {
    "colab": {
      "provenance": []
    },
    "kernelspec": {
      "display_name": "Python 3",
      "name": "python3"
    },
    "language_info": {
      "codemirror_mode": {
        "name": "ipython",
        "version": 3
      },
      "file_extension": ".py",
      "mimetype": "text/x-python",
      "name": "python",
      "nbconvert_exporter": "python",
      "pygments_lexer": "ipython3",
      "version": "3.12.0"
    }
  },
  "nbformat": 4,
  "nbformat_minor": 0
}
